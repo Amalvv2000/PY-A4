{
  "nbformat": 4,
  "nbformat_minor": 0,
  "metadata": {
    "colab": {
      "name": "day4Assignment-4.ipynb",
      "provenance": [],
      "collapsed_sections": []
    },
    "kernelspec": {
      "name": "python3",
      "display_name": "Python 3"
    },
    "language_info": {
      "name": "python"
    }
  },
  "cells": [
    {
      "cell_type": "markdown",
      "metadata": {
        "id": "POEFuoKZaRHK"
      },
      "source": [
        "Assignment-4 Day-4"
      ]
    },
    {
      "cell_type": "code",
      "metadata": {
        "id": "mYbtwsZLdP0t"
      },
      "source": [
        "#Assignment-4\n",
        "#Day-5\n",
        "#Date:02/07/2021\n",
        "#Amal V.V\n",
        "#amalvv2000cit@gmail.com\n"
      ],
      "execution_count": null,
      "outputs": []
    },
    {
      "cell_type": "markdown",
      "metadata": {
        "id": "8ws1SkXMdTVX"
      },
      "source": [
        "**Plane Landing**"
      ]
    },
    {
      "cell_type": "code",
      "metadata": {
        "colab": {
          "base_uri": "https://localhost:8080/"
        },
        "id": "cMXXdVsTaR5M",
        "outputId": "141e1c5a-cee5-4565-be9b-2a423e5af828"
      },
      "source": [
        "Altitude=int(input(\"Enter the altitude of the Aeroplane  : \" ))\n",
        "if (Altitude<=1000):\n",
        "    print(\"Exact altitude required for landing... Go for landing\")\n",
        "elif (1000 < Altitude <= 5000):\n",
        "    print(\"Come down to 1000ft\")\n",
        "else:\n",
        "    print(\"Go around and reattempt landing later\")\n"
      ],
      "execution_count": null,
      "outputs": [
        {
          "output_type": "stream",
          "text": [
            "Enter the altitude of the Aeroplane  : 5001\n",
            "Go around and reattempt landing later\n"
          ],
          "name": "stdout"
        }
      ]
    },
    {
      "cell_type": "code",
      "metadata": {
        "id": "5WbwYmpBaKlU"
      },
      "source": [
        ""
      ],
      "execution_count": null,
      "outputs": []
    }
  ]
}